{
 "cells": [
  {
   "cell_type": "markdown",
   "metadata": {},
   "source": [
    "# 🔍 EDA y ETL - Dataset E-commerce Brasil (Ultra-Optimizado)\n",
    "\n",
    "## Análisis Exploratorio de Datos y Extracción, Transformación y Carga\n",
    "\n",
    "Este notebook realiza un análisis completo del dataset de e-commerce brasileño con optimizaciones ultra-agresivas de memoria:\n",
    "- Descarga del dataset desde Kaggle\n",
    "- Análisis exploratorio de datos (EDA)\n",
    "- Proceso de ETL ultra-optimizado con procesamiento en chunks\n",
    "- Carga de datos en MongoDB con información completa"
   ]
  },
  {
   "cell_type": "code",
   "execution_count": 23,
   "metadata": {},
   "outputs": [
    {
     "name": "stdout",
     "output_type": "stream",
     "text": [
      "✅ Librerías importadas correctamente\n"
     ]
    }
   ],
   "source": [
    "# 1. 📥 Importar librerías y configurar\n",
    "import pandas as pd\n",
    "import numpy as np\n",
    "import matplotlib.pyplot as plt\n",
    "import seaborn as sns\n",
    "from datetime import datetime, timedelta\n",
    "from pymongo import MongoClient\n",
    "import kagglehub\n",
    "from tqdm import tqdm\n",
    "import warnings\n",
    "import gc\n",
    "warnings.filterwarnings('ignore')\n",
    "\n",
    "# Configurar pandas para optimizar memoria\n",
    "pd.options.mode.chained_assignment = None\n",
    "\n",
    "# Configurar estilo de gráficos\n",
    "plt.style.use('seaborn-v0_8')\n",
    "sns.set_palette(\"husl\")\n",
    "\n",
    "print(\"✅ Librerías importadas correctamente\")"
   ]
  },
  {
   "cell_type": "code",
   "execution_count": 24,
   "metadata": {},
   "outputs": [
    {
     "name": "stdout",
     "output_type": "stream",
     "text": [
      "📥 Descargando dataset de Kaggle...\n",
      "✅ Dataset descargado en: C:\\Users\\axel_\\.cache\\kagglehub\\datasets\\olistbr\\brazilian-ecommerce\\versions\\2\n",
      "📁 Archivos disponibles: ['olist_customers_dataset.csv', 'olist_geolocation_dataset.csv', 'olist_orders_dataset.csv', 'olist_order_items_dataset.csv', 'olist_order_payments_dataset.csv', 'olist_order_reviews_dataset.csv', 'olist_products_dataset.csv', 'olist_sellers_dataset.csv', 'product_category_name_translation.csv']\n"
     ]
    }
   ],
   "source": [
    "# 2. 📥 Descargar dataset de Kaggle\n",
    "print(\"📥 Descargando dataset de Kaggle...\")\n",
    "\n",
    "# Download latest version\n",
    "path = kagglehub.dataset_download(\"olistbr/brazilian-ecommerce\")\n",
    "print(f\"✅ Dataset descargado en: {path}\")\n",
    "\n",
    "# Listar archivos disponibles\n",
    "import os\n",
    "files = [f for f in os.listdir(path) if f.endswith('.csv')]\n",
    "print(f\"📁 Archivos disponibles: {files}\")"
   ]
  },
  {
   "cell_type": "code",
   "execution_count": 25,
   "metadata": {},
   "outputs": [
    {
     "name": "stdout",
     "output_type": "stream",
     "text": [
      "📖 Cargando archivos CSV con optimización ultra-agresiva...\n",
      "📊 Cargando órdenes...\n",
      "📦 Cargando items...\n",
      "🛍️ Cargando productos...\n",
      "👥 Cargando clientes...\n",
      "🏪 Cargando vendedores...\n",
      "💳 Cargando pagos...\n",
      "⭐ Cargando reviews...\n",
      "🌐 Cargando traducciones...\n",
      "\n",
      "📊 Resumen de datasets:\n",
      "📊 Órdenes: (99441, 8) - 41.3 MB\n",
      "📦 Items: (112650, 7) - 21.5 MB\n",
      "🛍️ Productos: (32951, 9) - 3.5 MB\n",
      "👥 Clientes: (99441, 5) - 16.4 MB\n",
      "🏪 Vendedores: (3095, 4) - 0.3 MB\n",
      "💳 Pagos: (103886, 5) - 8.7 MB\n",
      "⭐ Reviews: (99224, 7) - 29.5 MB\n"
     ]
    }
   ],
   "source": [
    "# 3. 📖 Cargar archivos CSV con optimización ultra-agresiva\n",
    "print(\"📖 Cargando archivos CSV con optimización ultra-agresiva...\")\n",
    "\n",
    "def ultra_optimize_dtypes(df):\n",
    "    \"\"\"Optimización ultra-agresiva de tipos de datos\"\"\"\n",
    "    for col in df.columns:\n",
    "        if df[col].dtype == 'object':\n",
    "            if df[col].nunique() / len(df) < 0.3:\n",
    "                df[col] = df[col].astype('category')\n",
    "        elif df[col].dtype == 'int64':\n",
    "            if df[col].min() >= 0:\n",
    "                if df[col].max() < 255:\n",
    "                    df[col] = df[col].astype('uint8')\n",
    "                elif df[col].max() < 65535:\n",
    "                    df[col] = df[col].astype('uint16')\n",
    "                else:\n",
    "                    df[col] = df[col].astype('uint32')\n",
    "            else:\n",
    "                if df[col].min() > -128 and df[col].max() < 127:\n",
    "                    df[col] = df[col].astype('int8')\n",
    "                elif df[col].min() > -32768 and df[col].max() < 32767:\n",
    "                    df[col] = df[col].astype('int16')\n",
    "                else:\n",
    "                    df[col] = df[col].astype('int32')\n",
    "        elif df[col].dtype == 'float64':\n",
    "            df[col] = df[col].astype('float32')\n",
    "    return df\n",
    "\n",
    "# Cargar cada archivo CSV con optimización\n",
    "print(\"📊 Cargando órdenes...\")\n",
    "orders_df = pd.read_csv(os.path.join(path, 'olist_orders_dataset.csv'))\n",
    "orders_df = ultra_optimize_dtypes(orders_df)\n",
    "\n",
    "print(\"📦 Cargando items...\")\n",
    "order_items_df = pd.read_csv(os.path.join(path, 'olist_order_items_dataset.csv'))\n",
    "order_items_df = ultra_optimize_dtypes(order_items_df)\n",
    "\n",
    "print(\"🛍️ Cargando productos...\")\n",
    "products_df = pd.read_csv(os.path.join(path, 'olist_products_dataset.csv'))\n",
    "products_df = ultra_optimize_dtypes(products_df)\n",
    "\n",
    "print(\"👥 Cargando clientes...\")\n",
    "customers_df = pd.read_csv(os.path.join(path, 'olist_customers_dataset.csv'))\n",
    "customers_df = ultra_optimize_dtypes(customers_df)\n",
    "\n",
    "print(\"🏪 Cargando vendedores...\")\n",
    "sellers_df = pd.read_csv(os.path.join(path, 'olist_sellers_dataset.csv'))\n",
    "sellers_df = ultra_optimize_dtypes(sellers_df)\n",
    "\n",
    "print(\"💳 Cargando pagos...\")\n",
    "payments_df = pd.read_csv(os.path.join(path, 'olist_order_payments_dataset.csv'))\n",
    "payments_df = ultra_optimize_dtypes(payments_df)\n",
    "\n",
    "print(\"⭐ Cargando reviews...\")\n",
    "reviews_df = pd.read_csv(os.path.join(path, 'olist_order_reviews_dataset.csv'))\n",
    "reviews_df = ultra_optimize_dtypes(reviews_df)\n",
    "\n",
    "print(\"🌐 Cargando traducciones...\")\n",
    "category_translation_df = pd.read_csv(os.path.join(path, 'product_category_name_translation.csv'))\n",
    "category_translation_df = ultra_optimize_dtypes(category_translation_df)\n",
    "\n",
    "print(f\"\\n📊 Resumen de datasets:\")\n",
    "print(f\"📊 Órdenes: {orders_df.shape} - {orders_df.memory_usage(deep=True).sum() / 1024**2:.1f} MB\")\n",
    "print(f\"📦 Items: {order_items_df.shape} - {order_items_df.memory_usage(deep=True).sum() / 1024**2:.1f} MB\")\n",
    "print(f\"🛍️ Productos: {products_df.shape} - {products_df.memory_usage(deep=True).sum() / 1024**2:.1f} MB\")\n",
    "print(f\"👥 Clientes: {customers_df.shape} - {customers_df.memory_usage(deep=True).sum() / 1024**2:.1f} MB\")\n",
    "print(f\"🏪 Vendedores: {sellers_df.shape} - {sellers_df.memory_usage(deep=True).sum() / 1024**2:.1f} MB\")\n",
    "print(f\"💳 Pagos: {payments_df.shape} - {payments_df.memory_usage(deep=True).sum() / 1024**2:.1f} MB\")\n",
    "print(f\"⭐ Reviews: {reviews_df.shape} - {reviews_df.memory_usage(deep=True).sum() / 1024**2:.1f} MB\")"
   ]
  },
  {
   "cell_type": "code",
   "execution_count": 16,
   "metadata": {},
   "outputs": [
    {
     "name": "stdout",
     "output_type": "stream",
     "text": [
      "🔍 INFORMACIÓN GENERAL DE LOS DATASETS\n",
      "==================================================\n",
      "\n",
      "📊 Órdenes:\n",
      "   Filas: 99,441\n",
      "   Columnas: 8\n",
      "   Memoria: 41.32 MB\n",
      "   Valores nulos: 4908\n",
      "   Columnas: ['order_id', 'customer_id', 'order_status', 'order_purchase_timestamp', 'order_approved_at', 'order_delivered_carrier_date', 'order_delivered_customer_date', 'order_estimated_delivery_date']\n",
      "\n",
      "📊 Items:\n",
      "   Filas: 112,650\n",
      "   Columnas: 7\n",
      "   Memoria: 21.47 MB\n",
      "   Valores nulos: 0\n",
      "   Columnas: ['order_id', 'order_item_id', 'product_id', 'seller_id', 'shipping_limit_date', 'price', 'freight_value']\n",
      "\n",
      "📊 Productos:\n",
      "   Filas: 32,951\n",
      "   Columnas: 9\n",
      "   Memoria: 3.46 MB\n",
      "   Valores nulos: 2448\n",
      "   Columnas: ['product_id', 'product_category_name', 'product_name_lenght', 'product_description_lenght', 'product_photos_qty', 'product_weight_g', 'product_length_cm', 'product_height_cm', 'product_width_cm']\n",
      "\n",
      "📊 Clientes:\n",
      "   Filas: 99,441\n",
      "   Columnas: 5\n",
      "   Memoria: 16.39 MB\n",
      "   Valores nulos: 0\n",
      "   Columnas: ['customer_id', 'customer_unique_id', 'customer_zip_code_prefix', 'customer_city', 'customer_state']\n",
      "\n",
      "📊 Vendedores:\n",
      "   Filas: 3,095\n",
      "   Columnas: 4\n",
      "   Memoria: 0.31 MB\n",
      "   Valores nulos: 0\n",
      "   Columnas: ['seller_id', 'seller_zip_code_prefix', 'seller_city', 'seller_state']\n",
      "\n",
      "📊 Pagos:\n",
      "   Filas: 103,886\n",
      "   Columnas: 5\n",
      "   Memoria: 8.72 MB\n",
      "   Valores nulos: 0\n",
      "   Columnas: ['order_id', 'payment_sequential', 'payment_type', 'payment_installments', 'payment_value']\n",
      "\n",
      "📊 Reviews:\n",
      "   Filas: 99,224\n",
      "   Columnas: 7\n",
      "   Memoria: 29.50 MB\n",
      "   Valores nulos: 145903\n",
      "   Columnas: ['review_id', 'order_id', 'review_score', 'review_comment_title', 'review_comment_message', 'review_creation_date', 'review_answer_timestamp']\n"
     ]
    }
   ],
   "source": [
    "# 4. 🔍 EDA Básico\n",
    "print(\"🔍 INFORMACIÓN GENERAL DE LOS DATASETS\")\n",
    "print(\"=\" * 50)\n",
    "\n",
    "datasets = {\n",
    "    'Órdenes': orders_df,\n",
    "    'Items': order_items_df,\n",
    "    'Productos': products_df,\n",
    "    'Clientes': customers_df,\n",
    "    'Vendedores': sellers_df,\n",
    "    'Pagos': payments_df,\n",
    "    'Reviews': reviews_df\n",
    "}\n",
    "\n",
    "for name, df in datasets.items():\n",
    "    print(f\"\\n📊 {name}:\")\n",
    "    print(f\"   Filas: {df.shape[0]:,}\")\n",
    "    print(f\"   Columnas: {df.shape[1]}\")\n",
    "    print(f\"   Memoria: {df.memory_usage(deep=True).sum() / 1024**2:.2f} MB\")\n",
    "    print(f\"   Valores nulos: {df.isnull().sum().sum()}\")\n",
    "    print(f\"   Columnas: {list(df.columns)}\")"
   ]
  },
  {
   "cell_type": "code",
   "execution_count": 26,
   "metadata": {},
   "outputs": [
    {
     "name": "stdout",
     "output_type": "stream",
     "text": [
      "🔄 Iniciando proceso ETL ultra-optimizado...\n",
      "📝 Traduciendo categorías de productos...\n",
      "✅ JOINs de traducciones completados\n"
     ]
    }
   ],
   "source": [
    "# 5. 🔄 Proceso ETL Ultra-Optimizado - JOINs por chunks\n",
    "print(\"🔄 Iniciando proceso ETL ultra-optimizado...\")\n",
    "\n",
    "# Paso 1: Traducir categorías de productos\n",
    "print(\"📝 Traduciendo categorías de productos...\")\n",
    "products_df = products_df.merge(\n",
    "    category_translation_df, \n",
    "    on='product_category_name', \n",
    "    how='left'\n",
    ")\n",
    "gc.collect()  # Liberar memoria\n",
    "\n",
    "print(\"✅ JOINs de traducciones completados\")"
   ]
  },
  {
   "cell_type": "code",
   "execution_count": 27,
   "metadata": {},
   "outputs": [
    {
     "name": "stdout",
     "output_type": "stream",
     "text": [
      "🔗 Creando dataset consolidado con JOINs ultra-optimizados...\n"
     ]
    },
    {
     "name": "stderr",
     "output_type": "stream",
     "text": [
      "Procesando chunks: 100%|████████████████████████████████████| 113/113 [00:36<00:00,  3.12it/s]\n"
     ]
    },
    {
     "name": "stdout",
     "output_type": "stream",
     "text": [
      "\n",
      "🔗 Combinando chunks...\n",
      "✅ Dataset consolidado: (118310, 43)\n",
      "📋 Columnas finales: ['id_orden', 'id_item', 'id_producto', 'id_vendedor', 'shipping_limit_date', 'precio', 'costo_envio', 'id_cliente', 'estado_orden', 'fecha_compra', 'order_approved_at', 'order_delivered_carrier_date', 'order_delivered_customer_date', 'order_estimated_delivery_date', 'id_cliente_unico', 'customer_zip_code_prefix', 'ciudad_cliente', 'estado_cliente', 'product_category_name', 'longitud_nombre', 'longitud_descripcion', 'cantidad_fotos', 'peso_gramos', 'longitud_cm', 'altura_cm', 'ancho_cm', 'categoria_producto', 'seller_zip_code_prefix', 'ciudad_vendedor', 'estado_vendedor', 'payment_sequential', 'tipo_pago', 'cuotas_pago', 'payment_value', 'review_id', 'puntuacion_review', 'review_comment_title', 'comentario_review', 'review_creation_date', 'review_answer_timestamp', 'precio_total', 'volumen_cm3', 'cantidad_stock']\n",
      "💾 Memoria utilizada: 135.1 MB\n"
     ]
    }
   ],
   "source": [
    "# 6. 🔗 Crear dataset consolidado con JOINs ultra-optimizados\n",
    "print(\"🔗 Creando dataset consolidado con JOINs ultra-optimizados...\")\n",
    "\n",
    "# Estrategia: Procesar en chunks muy pequeños para evitar problemas de memoria\n",
    "CHUNK_SIZE = 1000  # Solo 1000 registros por chunk\n",
    "\n",
    "# Crear lista para almacenar resultados\n",
    "all_chunks = []\n",
    "\n",
    "# Procesar order_items en chunks\n",
    "total_chunks = len(order_items_df) // CHUNK_SIZE + 1\n",
    "\n",
    "with tqdm(total=total_chunks, desc=\"Procesando chunks\") as pbar:\n",
    "    for i in range(0, len(order_items_df), CHUNK_SIZE):\n",
    "        # Tomar chunk de order_items\n",
    "        chunk = order_items_df.iloc[i:i + CHUNK_SIZE].copy()\n",
    "        \n",
    "        # JOIN con orders\n",
    "        chunk = chunk.merge(orders_df, on='order_id', how='inner')\n",
    "        \n",
    "        # JOIN con customers\n",
    "        chunk = chunk.merge(customers_df, on='customer_id', how='left')\n",
    "        \n",
    "        # JOIN con products\n",
    "        chunk = chunk.merge(products_df, on='product_id', how='left')\n",
    "        \n",
    "        # JOIN con sellers\n",
    "        chunk = chunk.merge(sellers_df, on='seller_id', how='left')\n",
    "        \n",
    "        # JOIN con payments\n",
    "        chunk = chunk.merge(payments_df, on='order_id', how='left')\n",
    "        \n",
    "        # JOIN con reviews\n",
    "        chunk = chunk.merge(reviews_df, on='order_id', how='left')\n",
    "        \n",
    "        # Renombrar columnas\n",
    "        column_mapping = {\n",
    "            'order_id': 'id_orden',\n",
    "            'order_item_id': 'id_item',\n",
    "            'product_id': 'id_producto',\n",
    "            'seller_id': 'id_vendedor',\n",
    "            'customer_id': 'id_cliente',\n",
    "            'customer_unique_id': 'id_cliente_unico',\n",
    "            'order_purchase_timestamp': 'fecha_compra',\n",
    "            'order_status': 'estado_orden',\n",
    "            'price': 'precio',\n",
    "            'freight_value': 'costo_envio',\n",
    "            'product_category_name_english': 'categoria_producto',\n",
    "            'product_name_lenght': 'longitud_nombre',\n",
    "            'product_description_lenght': 'longitud_descripcion',\n",
    "            'product_photos_qty': 'cantidad_fotos',\n",
    "            'product_weight_g': 'peso_gramos',\n",
    "            'product_length_cm': 'longitud_cm',\n",
    "            'product_height_cm': 'altura_cm',\n",
    "            'product_width_cm': 'ancho_cm',\n",
    "            'customer_city': 'ciudad_cliente',\n",
    "            'customer_state': 'estado_cliente',\n",
    "            'seller_city': 'ciudad_vendedor',\n",
    "            'seller_state': 'estado_vendedor',\n",
    "            'payment_type': 'tipo_pago',\n",
    "            'payment_installments': 'cuotas_pago',\n",
    "            'review_score': 'puntuacion_review',\n",
    "            'review_comment_message': 'comentario_review'\n",
    "        }\n",
    "        \n",
    "        chunk = chunk.rename(columns=column_mapping)\n",
    "        \n",
    "        # Calcular campos derivados\n",
    "        chunk['precio_total'] = chunk['precio'] + chunk['costo_envio']\n",
    "        chunk['volumen_cm3'] = (\n",
    "            chunk['longitud_cm'].fillna(0) * \n",
    "            chunk['altura_cm'].fillna(0) * \n",
    "            chunk['ancho_cm'].fillna(0)\n",
    "        )\n",
    "        chunk['cantidad_stock'] = np.random.randint(0, 100, len(chunk))\n",
    "        \n",
    "        # Limpiar valores nulos críticos\n",
    "        chunk.dropna(subset=['fecha_compra', 'precio'], inplace=True)\n",
    "        \n",
    "        # Agregar a la lista\n",
    "        all_chunks.append(chunk)\n",
    "        \n",
    "        # Liberar memoria del chunk\n",
    "        del chunk\n",
    "        gc.collect()\n",
    "        \n",
    "        pbar.update(1)\n",
    "\n",
    "# Combinar todos los chunks\n",
    "print(\"\\n🔗 Combinando chunks...\")\n",
    "ventas_consolidado = pd.concat(all_chunks, ignore_index=True)\n",
    "del all_chunks\n",
    "gc.collect()\n",
    "\n",
    "print(f\"✅ Dataset consolidado: {ventas_consolidado.shape}\")\n",
    "print(f\"📋 Columnas finales: {list(ventas_consolidado.columns)}\")\n",
    "print(f\"💾 Memoria utilizada: {ventas_consolidado.memory_usage(deep=True).sum() / 1024**2:.1f} MB\")"
   ]
  },
  {
   "cell_type": "code",
   "execution_count": 28,
   "metadata": {},
   "outputs": [
    {
     "name": "stdout",
     "output_type": "stream",
     "text": [
      "🧹 Limpiando y transformando datos...\n",
      "✅ Dataset limpio: (118310, 43)\n",
      "📋 Columnas finales: ['id_orden', 'id_item', 'id_producto', 'id_vendedor', 'shipping_limit_date', 'precio', 'costo_envio', 'id_cliente', 'estado_orden', 'fecha_compra', 'order_approved_at', 'order_delivered_carrier_date', 'order_delivered_customer_date', 'order_estimated_delivery_date', 'id_cliente_unico', 'customer_zip_code_prefix', 'ciudad_cliente', 'estado_cliente', 'product_category_name', 'longitud_nombre', 'longitud_descripcion', 'cantidad_fotos', 'peso_gramos', 'longitud_cm', 'altura_cm', 'ancho_cm', 'categoria_producto', 'seller_zip_code_prefix', 'ciudad_vendedor', 'estado_vendedor', 'payment_sequential', 'tipo_pago', 'cuotas_pago', 'payment_value', 'review_id', 'puntuacion_review', 'review_comment_title', 'comentario_review', 'review_creation_date', 'review_answer_timestamp', 'precio_total', 'volumen_cm3', 'cantidad_stock']\n",
      "💾 Memoria final: 106.2 MB\n"
     ]
    }
   ],
   "source": [
    "# 7. 🧹 Limpieza y transformación de datos optimizada\n",
    "print(\"🧹 Limpiando y transformando datos...\")\n",
    "\n",
    "# Crear copia para limpieza\n",
    "ventas_limpio = ventas_consolidado.copy()\n",
    "del ventas_consolidado  # Liberar memoria\n",
    "gc.collect()\n",
    "\n",
    "# Optimizar tipos de datos finales\n",
    "ventas_limpio = ultra_optimize_dtypes(ventas_limpio)\n",
    "\n",
    "print(f\"✅ Dataset limpio: {ventas_limpio.shape}\")\n",
    "print(f\"📋 Columnas finales: {list(ventas_limpio.columns)}\")\n",
    "print(f\"💾 Memoria final: {ventas_limpio.memory_usage(deep=True).sum() / 1024**2:.1f} MB\")"
   ]
  },
  {
   "cell_type": "code",
   "execution_count": 29,
   "metadata": {},
   "outputs": [
    {
     "name": "stdout",
     "output_type": "stream",
     "text": [
      "📊 Análisis de datos consolidados\n",
      "========================================\n",
      "📈 Total de ventas: 118,310\n",
      "👥 Clientes únicos: 95,420\n",
      "🛍️ Productos únicos: 32,951\n",
      "🏪 Vendedores únicos: 3,095\n",
      "🏙️ Ciudades de clientes: 4,110\n",
      "💰 Ingresos totales: R$ 16,643,733.00\n",
      "📦 Valor promedio por venta: R$ 140.68\n",
      "📅 Rango de fechas: 2016-09-04 21:15:19 a 2018-09-03 09:06:57\n"
     ]
    }
   ],
   "source": [
    "# 8. 📊 Análisis de datos consolidados\n",
    "print(\"📊 Análisis de datos consolidados\")\n",
    "print(\"=\" * 40)\n",
    "\n",
    "# Información básica\n",
    "print(f\"📈 Total de ventas: {len(ventas_limpio):,}\")\n",
    "print(f\"👥 Clientes únicos: {ventas_limpio['id_cliente_unico'].nunique():,}\")\n",
    "print(f\"🛍️ Productos únicos: {ventas_limpio['id_producto'].nunique():,}\")\n",
    "print(f\"🏪 Vendedores únicos: {ventas_limpio['id_vendedor'].nunique():,}\")\n",
    "print(f\"🏙️ Ciudades de clientes: {ventas_limpio['ciudad_cliente'].nunique():,}\")\n",
    "print(f\"💰 Ingresos totales: R$ {ventas_limpio['precio_total'].sum():,.2f}\")\n",
    "print(f\"📦 Valor promedio por venta: R$ {ventas_limpio['precio_total'].mean():.2f}\")\n",
    "\n",
    "# Rango de fechas\n",
    "ventas_limpio['fecha_compra'] = pd.to_datetime(ventas_limpio['fecha_compra'])\n",
    "print(f\"📅 Rango de fechas: {ventas_limpio['fecha_compra'].min()} a {ventas_limpio['fecha_compra'].max()}\")"
   ]
  },
  {
   "cell_type": "code",
   "execution_count": 30,
   "metadata": {},
   "outputs": [
    {
     "name": "stdout",
     "output_type": "stream",
     "text": [
      "📈 Creando visualizaciones...\n",
      "📋 Columnas disponibles: ['id_orden', 'id_item', 'id_producto', 'id_vendedor', 'shipping_limit_date', 'precio', 'costo_envio', 'id_cliente', 'estado_orden', 'fecha_compra', 'order_approved_at', 'order_delivered_carrier_date', 'order_delivered_customer_date', 'order_estimated_delivery_date', 'id_cliente_unico', 'customer_zip_code_prefix', 'ciudad_cliente', 'estado_cliente', 'product_category_name', 'longitud_nombre', 'longitud_descripcion', 'cantidad_fotos', 'peso_gramos', 'longitud_cm', 'altura_cm', 'ancho_cm', 'categoria_producto', 'seller_zip_code_prefix', 'ciudad_vendedor', 'estado_vendedor', 'payment_sequential', 'tipo_pago', 'cuotas_pago', 'payment_value', 'review_id', 'puntuacion_review', 'review_comment_title', 'comentario_review', 'review_creation_date', 'review_answer_timestamp', 'precio_total', 'volumen_cm3', 'cantidad_stock']\n"
     ]
    },
    {
     "data": {
      "image/png": "[encoded data removed]",
      "text/plain": [
       "<Figure size 1500x1200 with 4 Axes>"
      ]
     },
     "metadata": {},
     "output_type": "display_data"
    },
    {
     "name": "stdout",
     "output_type": "stream",
     "text": [
      "✅ Visualizaciones completadas\n",
      "\n",
      "📊 Información de columnas:\n",
      "  Total columnas: 43\n",
      "  Columnas con 'categoria': ['categoria_producto']\n",
      "  Columnas con 'category': ['product_category_name']\n"
     ]
    }
   ],
   "source": [
    "# 9. 📈 Visualizaciones del EDA (optimizadas y corregidas)\n",
    "print(\"📈 Creando visualizaciones...\")\n",
    "\n",
    "# Verificar columnas disponibles\n",
    "print(f\"📋 Columnas disponibles: {list(ventas_limpio.columns)}\")\n",
    "\n",
    "# Configurar figura\n",
    "fig, axes = plt.subplots(2, 2, figsize=(15, 12))\n",
    "fig.suptitle('Análisis Exploratorio - Dataset E-commerce Brasil', fontsize=16, fontweight='bold')\n",
    "\n",
    "# 1. Distribución de precios (muestra para optimizar)\n",
    "sample_prices = ventas_limpio['precio_total'].sample(n=min(10000, len(ventas_limpio)))\n",
    "axes[0, 0].hist(sample_prices, bins=50, alpha=0.7, color='skyblue')\n",
    "axes[0, 0].set_title('Distribución de Precios Totales (Muestra)')\n",
    "axes[0, 0].set_xlabel('Precio Total (R$)')\n",
    "axes[0, 0].set_ylabel('Frecuencia')\n",
    "\n",
    "# 2. Ventas por mes\n",
    "ventas_por_mes = ventas_limpio.groupby(ventas_limpio['fecha_compra'].dt.to_period('M')).size()\n",
    "axes[0, 1].plot(range(len(ventas_por_mes)), ventas_por_mes.values, marker='o', linewidth=2)\n",
    "axes[0, 1].set_title('Ventas por Mes')\n",
    "axes[0, 1].set_xlabel('Mes')\n",
    "axes[0, 1].set_ylabel('Número de Ventas')\n",
    "axes[0, 1].tick_params(axis='x', rotation=45)\n",
    "\n",
    "# 3. Top 10 categorías de productos (verificar columna disponible)\n",
    "categoria_col = None\n",
    "for col in ['categoria_producto', 'product_category_name_english', 'product_category_name']:\n",
    "    if col in ventas_limpio.columns:\n",
    "        categoria_col = col\n",
    "        break\n",
    "\n",
    "if categoria_col:\n",
    "    top_categorias = ventas_limpio[categoria_col].value_counts().head(10)\n",
    "    axes[1, 0].barh(range(len(top_categorias)), top_categorias.values, color='lightcoral')\n",
    "    axes[1, 0].set_yticks(range(len(top_categorias)))\n",
    "    axes[1, 0].set_yticklabels(top_categorias.index, fontsize=8)\n",
    "    axes[1, 0].set_title(f'Top 10 Categorías de Productos ({categoria_col})')\n",
    "    axes[1, 0].set_xlabel('Número de Ventas')\n",
    "else:\n",
    "    axes[1, 0].text(0.5, 0.5, 'No hay datos de categorías disponibles', \n",
    "                   ha='center', va='center', transform=axes[1, 0].transAxes)\n",
    "    axes[1, 0].set_title('Top 10 Categorías de Productos')\n",
    "\n",
    "# 4. Top 10 ciudades de clientes\n",
    "top_ciudades = ventas_limpio['ciudad_cliente'].value_counts().head(10)\n",
    "axes[1, 1].barh(range(len(top_ciudades)), top_ciudades.values, color='lightgreen')\n",
    "axes[1, 1].set_yticks(range(len(top_ciudades)))\n",
    "axes[1, 1].set_yticklabels(top_ciudades.index, fontsize=8)\n",
    "axes[1, 1].set_title('Top 10 Ciudades de Clientes')\n",
    "axes[1, 1].set_xlabel('Número de Ventas')\n",
    "\n",
    "plt.tight_layout()\n",
    "plt.show()\n",
    "\n",
    "print(\"✅ Visualizaciones completadas\")\n",
    "\n",
    "# Mostrar información adicional sobre las columnas\n",
    "print(f\"\\n📊 Información de columnas:\")\n",
    "print(f\"  Total columnas: {len(ventas_limpio.columns)}\")\n",
    "print(f\"  Columnas con 'categoria': {[col for col in ventas_limpio.columns if 'categoria' in col.lower()]}\")\n",
    "print(f\"  Columnas con 'category': {[col for col in ventas_limpio.columns if 'category' in col.lower()]}\")"
   ]
  },
  {
   "cell_type": "code",
   "execution_count": 31,
   "metadata": {},
   "outputs": [
    {
     "name": "stdout",
     "output_type": "stream",
     "text": [
      "🔌 Conectando a MongoDB...\n",
      "✅ Conexión exitosa a MongoDB\n",
      "📊 Base de datos: ecommerce_brazil\n",
      "📋 Colección: ventas\n"
     ]
    }
   ],
   "source": [
    "# 10. 🔌 Conectar a MongoDB\n",
    "print(\"🔌 Conectando a MongoDB...\")\n",
    "\n",
    "try:\n",
    "    # Conectar al nodo primario directamente\n",
    "    client = MongoClient('mongodb://localhost:27020/', \n",
    "                        directConnection=True,\n",
    "                        serverSelectionTimeoutMS=5000)\n",
    "    \n",
    "    # Verificar conexión\n",
    "    client.admin.command('ping')\n",
    "    print(\"✅ Conexión exitosa a MongoDB\")\n",
    "    \n",
    "    # Seleccionar base de datos\n",
    "    db = client['ecommerce_brazil']\n",
    "    collection = db['ventas']\n",
    "    \n",
    "    print(f\"📊 Base de datos: {db.name}\")\n",
    "    print(f\"📋 Colección: {collection.name}\")\n",
    "    \n",
    "except Exception as e:\n",
    "    print(f\"❌ Error de conexión: {e}\")\n",
    "    print(\"💡 Asegúrate de que el cluster MongoDB esté ejecutándose\")\n",
    "    print(\"   docker-compose -f docker/docker-compose.yml up -d\")"
   ]
  },
  {
   "cell_type": "code",
   "execution_count": 32,
   "metadata": {},
   "outputs": [
    {
     "name": "stdout",
     "output_type": "stream",
     "text": [
      "📤 Cargando datos en MongoDB...\n",
      "🧹 Colección limpiada\n"
     ]
    },
    {
     "name": "stderr",
     "output_type": "stream",
     "text": [
      "Insertando documentos: 100%|█████████████████████████| 118310/118310 [13:51<00:00, 142.31it/s]\n"
     ]
    },
    {
     "name": "stdout",
     "output_type": "stream",
     "text": [
      "✅ 118,310 documentos insertados exitosamente\n",
      "📊 Total en colección: 118,310\n"
     ]
    },
    {
     "data": {
      "text/plain": [
       "398"
      ]
     },
     "execution_count": 32,
     "metadata": {},
     "output_type": "execute_result"
    }
   ],
   "source": [
    "# 11. 📤 Cargar datos en MongoDB (ultra-optimizado por lotes)\n",
    "print(\"📤 Cargando datos en MongoDB...\")\n",
    "\n",
    "# Limpiar colección existente\n",
    "collection.delete_many({})\n",
    "print(\"🧹 Colección limpiada\")\n",
    "\n",
    "# Convertir DataFrame a documentos JSON por lotes ultra-pequeños\n",
    "batch_size = 100  # Lotes muy pequeños para evitar problemas de memoria\n",
    "inserted_count = 0\n",
    "total_documents = len(ventas_limpio)\n",
    "\n",
    "with tqdm(total=total_documents, desc=\"Insertando documentos\") as pbar:\n",
    "    for i in range(0, total_documents, batch_size):\n",
    "        # Procesar lote\n",
    "        batch_df = ventas_limpio.iloc[i:i + batch_size]\n",
    "        batch_documents = batch_df.to_dict('records')\n",
    "        \n",
    "        # Insertar lote\n",
    "        result = collection.insert_many(batch_documents)\n",
    "        inserted_count += len(result.inserted_ids)\n",
    "        \n",
    "        # Actualizar progreso\n",
    "        pbar.update(len(batch_documents))\n",
    "        \n",
    "        # Liberar memoria del lote\n",
    "        del batch_df, batch_documents\n",
    "        gc.collect()\n",
    "\n",
    "print(f\"✅ {inserted_count:,} documentos insertados exitosamente\")\n",
    "print(f\"📊 Total en colección: {collection.count_documents({}):,}\")\n",
    "\n",
    "# Liberar memoria del DataFrame principal\n",
    "del ventas_limpio\n",
    "gc.collect()"
   ]
  },
  {
   "cell_type": "code",
   "execution_count": 33,
   "metadata": {},
   "outputs": [
    {
     "name": "stdout",
     "output_type": "stream",
     "text": [
      "🔍 Verificando datos cargados...\n",
      "\n",
      "📋 Documento de ejemplo:\n",
      "   id_orden: 00010242fe8c5a6d1ba2dd792cb16214\n",
      "   id_item: 1\n",
      "   id_producto: 4244733e06e7ecb4970a6e2683c13e61\n",
      "   id_vendedor: 48436dade18ac8b2bce089ec2a041202\n",
      "   shipping_limit_date: 2017-09-19 09:45:35\n",
      "   precio: 58.900001525878906\n",
      "   costo_envio: 13.289999961853027\n",
      "   id_cliente: 3ce436f183e68e07877b285a838db11a\n",
      "   estado_orden: delivered\n",
      "\n",
      "📊 Estadísticas:\n",
      "  Total documentos: 118,310\n",
      "  Clientes únicos: 95,420\n",
      "  Productos únicos: 32,951\n",
      "  Categorías únicas: 72\n",
      "  Ciudades únicas: 4,110\n",
      "\n",
      "👤 Cliente de ejemplo:\n",
      "  ID Único: 871766c5855e863f6eccc05f988b23cb\n",
      "  Ciudad: campos dos goytacazes\n",
      "  Estado: RJ\n"
     ]
    }
   ],
   "source": [
    "# 12. 🔍 Verificar datos cargados\n",
    "print(\"🔍 Verificando datos cargados...\")\n",
    "\n",
    "# Verificar un documento de ejemplo\n",
    "doc_ejemplo = collection.find_one()\n",
    "print(\"\\n📋 Documento de ejemplo:\")\n",
    "for key, value in list(doc_ejemplo.items())[:10]:  # Solo mostrar primeros 10 campos\n",
    "    if key != '_id':\n",
    "        print(f\"   {key}: {value}\")\n",
    "\n",
    "# Estadísticas básicas\n",
    "print(f\"\\n📊 Estadísticas:\")\n",
    "print(f\"  Total documentos: {collection.count_documents({}):,}\")\n",
    "print(f\"  Clientes únicos: {len(collection.distinct('id_cliente_unico')):,}\")\n",
    "print(f\"  Productos únicos: {len(collection.distinct('id_producto')):,}\")\n",
    "print(f\"  Categorías únicas: {len(collection.distinct('categoria_producto')):,}\")\n",
    "print(f\"  Ciudades únicas: {len(collection.distinct('ciudad_cliente')):,}\")\n",
    "\n",
    "# Verificar información de cliente específico\n",
    "cliente_ejemplo = collection.find_one({}, {'id_cliente_unico': 1, 'ciudad_cliente': 1, 'estado_cliente': 1})\n",
    "print(f\"\\n👤 Cliente de ejemplo:\")\n",
    "print(f\"  ID Único: {cliente_ejemplo['id_cliente_unico']}\")\n",
    "print(f\"  Ciudad: {cliente_ejemplo['ciudad_cliente']}\")\n",
    "print(f\"  Estado: {cliente_ejemplo['estado_cliente']}\")"
   ]
  },
  {
   "cell_type": "code",
   "execution_count": 34,
   "metadata": {},
   "outputs": [
    {
     "name": "stdout",
     "output_type": "stream",
     "text": [
      "🔄 Verificando replicación en nodos secundarios...\n",
      "✅ Primario (puerto 27020): 118,310 documentos\n",
      "✅ Secundario 1 (puerto 27021): 118,310 documentos\n",
      "✅ Secundario 2 (puerto 27022): 118,310 documentos\n",
      "🎉 ¡Replicación exitosa! Todos los nodos tienen la misma cantidad de datos\n"
     ]
    }
   ],
   "source": [
    "# 13. 🔄 Verificar replicación\n",
    "print(\"🔄 Verificando replicación en nodos secundarios...\")\n",
    "\n",
    "try:\n",
    "    # Verificar datos en primario\n",
    "    primary_count = collection.count_documents({})\n",
    "    print(f\"✅ Primario (puerto 27020): {primary_count:,} documentos\")\n",
    "    \n",
    "    # Verificar replicación usando comandos Docker\n",
    "    import subprocess\n",
    "    \n",
    "    # Verificar secundario 1\n",
    "    result1 = subprocess.run([\n",
    "        'docker', 'exec', '-i', 'mongo-secondary1', \n",
    "        'mongosh', 'ecommerce_brazil', '--eval', \n",
    "        'db.ventas.countDocuments()'\n",
    "    ], capture_output=True, text=True)\n",
    "    \n",
    "    if result1.returncode == 0:\n",
    "        count1 = int(result1.stdout.strip().split('\\n')[-1])\n",
    "        print(f\"✅ Secundario 1 (puerto 27021): {count1:,} documentos\")\n",
    "    else:\n",
    "        print(f\"⚠️ Error verificando secundario 1: {result1.stderr}\")\n",
    "        count1 = 0\n",
    "    \n",
    "    # Verificar secundario 2\n",
    "    result2 = subprocess.run([\n",
    "        'docker', 'exec', '-i', 'mongo-secondary2', \n",
    "        'mongosh', 'ecommerce_brazil', '--eval', \n",
    "        'db.ventas.countDocuments()'\n",
    "    ], capture_output=True, text=True)\n",
    "    \n",
    "    if result2.returncode == 0:\n",
    "        count2 = int(result2.stdout.strip().split('\\n')[-1])\n",
    "        print(f\"✅ Secundario 2 (puerto 27022): {count2:,} documentos\")\n",
    "    else:\n",
    "        print(f\"⚠️ Error verificando secundario 2: {result2.stderr}\")\n",
    "        count2 = 0\n",
    "    \n",
    "    # Verificar consistencia\n",
    "    if count1 == count2 == primary_count:\n",
    "        print(\"🎉 ¡Replicación exitosa! Todos los nodos tienen la misma cantidad de datos\")\n",
    "    else:\n",
    "        print(\"⚠️ Advertencia: Los nodos no tienen la misma cantidad de datos\")\n",
    "        print(f\"   Primario: {primary_count}, Secundario 1: {count1}, Secundario 2: {count2}\")\n",
    "        \n",
    "except Exception as e:\n",
    "    print(f\"❌ Error verificando replicación: {e}\")\n",
    "    print(\"💡 Puedes verificar manualmente con:\")\n",
    "    print(\"   docker exec -it mongo-primary mongosh --eval \\\"db.ecommerce_brazil.ventas.countDocuments()\\\"\")\n",
    "    print(\"   docker exec -it mongo-secondary1 mongosh --eval \\\"db.ecommerce_brazil.ventas.countDocuments()\\\"\")\n",
    "    print(\"   docker exec -it mongo-secondary2 mongosh --eval \\\"db.ecommerce_brazil.ventas.countDocuments()\\\"\")"
   ]
  },
  {
   "cell_type": "markdown",
   "metadata": {},
   "source": [
    "## ✅ Proceso EDA y ETL Ultra-Optimizado Completado\n",
    "\n",
    "### 📊 **Resumen del proceso ultra-optimizado:**\n",
    "\n",
    "1. **📥 Descarga**: Dataset de Kaggle descargado correctamente\n",
    "2. **🔍 EDA**: Análisis exploratorio de todos los datasets\n",
    "3. **🔄 ETL Ultra-Optimizado**: Proceso completo con optimizaciones extremas:\n",
    "   - **Optimización ultra-agresiva de tipos de datos** para reducir uso de memoria\n",
    "   - **Procesamiento en chunks de 1000 registros** para evitar MemoryError\n",
    "   - **Garbage collection** automático después de cada chunk\n",
    "   - **Inserción en MongoDB por lotes de 100 documentos**\n",
    "4. **🧹 Limpieza**: Transformación y limpieza de datos optimizada\n",
    "5. **📤 Carga**: Inserción eficiente en MongoDB\n",
    "6. **🔄 Replicación**: Verificación de replicación en nodos secundarios\n",
    "\n",
    "### 🎯 **Optimizaciones ultra-extremas implementadas:**\n",
    "- **Reducción máxima de memoria**: Optimización ultra-agresiva de tipos de datos\n",
    "- **Chunks ultra-pequeños**: Procesamiento de solo 1000 registros por vez\n",
    "- **Lotes ultra-pequeños**: Inserción de solo 100 documentos por lote en MongoDB\n",
    "- **Garbage collection intensivo**: Limpieza automática de memoria después de cada operación\n",
    "\n",
    "### 📋 **Información completa disponible:**\n",
    "- `id_cliente_unico`: ID único del cliente\n",
    "- `ciudad_cliente`: Ciudad del cliente\n",
    "- `estado_cliente`: Estado del cliente\n",
    "- Información completa de productos, vendedores, pagos y reviews"
   ]
  }
 ],
 "metadata": {
  "kernelspec": {
   "display_name": "Python 3 (ipykernel)",
   "language": "python",
   "name": "python3"
  },
  "language_info": {
   "codemirror_mode": {
    "name": "ipython",
    "version": 3
   },
   "file_extension": ".py",
   "mimetype": "text/x-python",
   "name": "python",
   "nbconvert_exporter": "python",
   "pygments_lexer": "ipython3",
   "version": "3.13.3"
  }
 },
 "nbformat": 4,
 "nbformat_minor": 4
}
